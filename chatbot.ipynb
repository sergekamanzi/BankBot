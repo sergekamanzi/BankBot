{
  "cells": [
    {
      "cell_type": "markdown",
      "metadata": {
        "id": "view-in-github",
        "colab_type": "text"
      },
      "source": [
        "<a href=\"https://colab.research.google.com/github/sergekamanzi/Chat-Bot-/blob/main/chatbot.ipynb\" target=\"_parent\"><img src=\"https://colab.research.google.com/assets/colab-badge.svg\" alt=\"Open In Colab\"/></a>"
      ]
    },
    {
      "cell_type": "code",
      "source": [
        "# For encoding questions using sentence embeddings\n",
        "from sentence_transformers import SentenceTransformer\n",
        "# For handling vectors and arrays\n",
        "import numpy as np\n",
        "# For indexing and searching through the vectors\n",
        "import faiss\n",
        "# Optional: for an interactive UI in Colab (Gradio)\n",
        "import gradio as gr"
      ],
      "metadata": {
        "id": "uPE2T2gyw__H"
      },
      "execution_count": 7,
      "outputs": []
    },
    {
      "cell_type": "code",
      "source": [
        "data = {\n",
        "    \"What was the significance of 1957 in Rwanda?\": \"In 1957, the Hutu Manifesto was published by Hutu intellectuals demanding political reform and majority rule, marking a turning point in ethnic tensions.\",\n",
        "    \"What happened during the Rwandan Revolution of 1959?\": \"The Rwandan Revolution in 1959 led to the end of the Tutsi monarchy and the rise of a Hutu-led republic. It triggered ethnic violence and the exile of many Tutsis.\",\n",
        "    \"When did Rwanda gain independence?\": \"Rwanda gained independence from Belgium on July 1, 1962, with Grégoire Kayibanda becoming the first president.\",\n",
        "    \"Who was Grégoire Kayibanda?\": \"Grégoire Kayibanda was Rwanda's first president from 1962 to 1973. He led the country after independence and promoted Hutu nationalism.\",\n",
        "    \"What happened in 1973 in Rwanda?\": \"In 1973, Major General Juvénal Habyarimana overthrew Grégoire Kayibanda in a military coup and established a one-party state under the MRND party.\",\n",
        "    \"Who was Juvénal Habyarimana?\": \"Juvénal Habyarimana was Rwanda's second president, ruling from 1973 until his assassination in 1994. His regime was marked by ethnic favoritism and authoritarianism.\",\n",
        "    \"What caused the 1994 Genocide?\": \"The 1994 Genocide against the Tutsi was caused by long-standing ethnic tensions, political instability, and extremist propaganda. The assassination of President Habyarimana triggered the mass killings.\",\n",
        "    \"What happened during the 1994 Genocide in Rwanda?\": \"From April to July 1994, approximately 800,000 Tutsi and moderate Hutu were killed in a genocide perpetrated by Hutu extremists.\",\n",
        "    \"Who ended the 1994 Genocide in Rwanda?\": \"The Rwandan Patriotic Front (RPF), led by Paul Kagame, ended the genocide in July 1994 after capturing Kigali and taking control of the country.\",\n",
        "    \"What is the Rwandan Patriotic Front (RPF)?\": \"The RPF is a political and military organization that ended the 1994 Genocide and has led the Rwandan government since then. It was founded by Tutsi exiles in Uganda.\",\n",
        "    \"Who is Paul Kagame?\": \"Paul Kagame is Rwanda's current president and former military leader of the RPF. He played a key role in ending the 1994 Genocide and has been president since 2000.\",\n",
        "    \"What happened in Rwanda after the Genocide?\": \"After the Genocide, Rwanda focused on national unity, justice through Gacaca courts, reconstruction, and economic development under RPF leadership.\",\n",
        "    \"What are Gacaca courts in Rwanda?\": \"Gacaca courts were community-based courts used to try suspects of the 1994 Genocide, aimed at truth-telling, justice, and reconciliation.\",\n",
        "    \"When did Paul Kagame become president?\": \"Paul Kagame officially became president of Rwanda in 2000 after Pasteur Bizimungu resigned.\",\n",
        "    \"What has Rwanda achieved since 2000?\": \"Since 2000, Rwanda has made progress in healthcare, education, digital transformation, gender equality, and economic development.\",\n",
        "    \"What is Vision 2020 in Rwanda?\": \"Vision 2020 was a national development plan launched by the Rwandan government to transform the country into a middle-income economy by the year 2020.\",\n",
        "    \"What replaced Vision 2020 in Rwanda?\": \"Vision 2050 replaced Vision 2020 and aims to make Rwanda an upper-middle-income country by 2035 and a high-income country by 2050.\",\n",
        "    \"What is Umuganda in Rwanda?\": \"Umuganda is a monthly national community service day in Rwanda where citizens clean streets, plant trees, and build public infrastructure.\",\n",
        "    \"What is Rwanda known for today?\": \"Rwanda is known for its clean cities, rapid development, eco-tourism, commitment to reconciliation, and being one of the safest countries in Africa.\",\n",
        "    \"What is Kwibuka in Rwanda?\": \"Kwibuka is an annual commemoration of the 1994 Genocide against the Tutsi. It means 'to remember' in Kinyarwanda and begins every April 7.\"\n",
        "}\n"
      ],
      "metadata": {
        "id": "5AEvgrS0vG37"
      },
      "execution_count": 8,
      "outputs": []
    },
    {
      "cell_type": "code",
      "source": [],
      "metadata": {
        "id": "55AfLvr0vjcH"
      },
      "execution_count": null,
      "outputs": []
    },
    {
      "cell_type": "code",
      "source": [],
      "metadata": {
        "id": "0iUfT8zXvjYr"
      },
      "execution_count": null,
      "outputs": []
    },
    {
      "cell_type": "code",
      "source": [],
      "metadata": {
        "id": "QCkJ1PJAvjV8"
      },
      "execution_count": null,
      "outputs": []
    },
    {
      "cell_type": "code",
      "source": [],
      "metadata": {
        "id": "g93uUn6yvjEJ"
      },
      "execution_count": null,
      "outputs": []
    }
  ],
  "metadata": {
    "colab": {
      "provenance": [],
      "include_colab_link": true
    },
    "kernelspec": {
      "display_name": "Python 3",
      "name": "python3"
    }
  },
  "nbformat": 4,
  "nbformat_minor": 0
}