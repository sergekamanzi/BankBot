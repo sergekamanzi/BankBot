{
  "cells": [
    {
      "cell_type": "markdown",
      "metadata": {
        "id": "view-in-github",
        "colab_type": "text"
      },
      "source": [
        "<a href=\"https://colab.research.google.com/github/sergekamanzi/Chat-Bot-/blob/main/chatbot.ipynb\" target=\"_parent\"><img src=\"https://colab.research.google.com/assets/colab-badge.svg\" alt=\"Open In Colab\"/></a>"
      ]
    },
    {
      "cell_type": "code",
      "source": [
        "import numpy as np\n",
        "import faiss\n",
        "from sentence_transformers import SentenceTransformer\n",
        "import gradio as gr\n",
        "\n",
        "# Define the question-answer data\n",
        "data = {\n",
        "    \"What was the significance of 1957 in Rwanda?\": \"In 1957, the Hutu Manifesto was published by Hutu intellectuals demanding political reform and majority rule, marking a turning point in ethnic tensions.\",\n",
        "    \"What happened during the Rwandan Revolution of 1959?\": \"The Rwandan Revolution in 1959 led to the end of the Tutsi monarchy and the rise of a Hutu-led republic. It triggered ethnic violence and the exile of many Tutsis.\",\n",
        "    \"When did Rwanda gain independence?\": \"Rwanda gained independence from Belgium on July 1, 1962, with Grégoire Kayibanda becoming the first president.\",\n",
        "    \"Who was Grégoire Kayibanda?\": \"Grégoire Kayibanda was Rwanda's first president from 1962 to 1973. He led the country after independence and promoted Hutu nationalism.\",\n",
        "    \"What happened in 1973 in Rwanda?\": \"In 1973, Major General Juvénal Habyarimana overthrew Grégoire Kayibanda in a military coup and established a one-party state under the MRND party.\",\n",
        "    \"Who was Juvénal Habyarimana?\": \"Juvénal Habyarimana was Rwanda's second president, ruling from 1973 until his assassination in 1994. His regime was marked by ethnic favoritism and authoritarianism.\",\n",
        "    \"What caused the 1994 Genocide?\": \"The 1994 Genocide against the Tutsi was caused by long-standing ethnic tensions, political instability, and extremist propaganda. The assassination of President Habyarimana triggered the mass killings.\",\n",
        "    \"What happened during the 1994 Genocide in Rwanda?\": \"From April to July 1994, approximately 800,000 Tutsi and moderate Hutu were killed in a genocide perpetrated by Hutu extremists.\",\n",
        "    \"Who ended the 1994 Genocide in Rwanda?\": \"The Rwandan Patriotic Front (RPF), led by Paul Kagame, ended the genocide in July 1994 after capturing Kigali and taking control of the country.\",\n",
        "    \"What is the Rwandan Patriotic Front (RPF)?\": \"The RPF is a political and military organization that ended the 1994 Genocide and has led the Rwandan government since then. It was founded by Tutsi exiles in Uganda.\",\n",
        "    \"Who is Paul Kagame?\": \"Paul Kagame is Rwanda's current president and former military leader of the RPF. He played a key role in ending the 1994 Genocide and has been president since 2000.\",\n",
        "    \"What happened in Rwanda after the Genocide?\": \"After the Genocide, Rwanda focused on national unity, justice through Gacaca courts, reconstruction, and economic development under RPF leadership.\",\n",
        "    \"What are Gacaca courts in Rwanda?\": \"Gacaca courts were community-based courts used to try suspects of the 1994 Genocide, aimed at truth-telling, justice, and reconciliation.\",\n",
        "    \"When did Paul Kagame become president?\": \"Paul Kagame officially became president of Rwanda in 2000 after Pasteur Bizimungu resigned.\",\n",
        "    \"What has Rwanda achieved since 2000?\": \"Since 2000, Rwanda has made progress in healthcare, education, digital transformation, gender equality, and economic development.\",\n",
        "    \"What is Vision 2020 in Rwanda?\": \"Vision 2020 was a national development plan launched by the Rwandan government to transform the country into a middle-income economy by the year 2020.\",\n",
        "    \"What replaced Vision 2020 in Rwanda?\": \"Vision 2050 replaced Vision 2020 and aims to make Rwanda an upper-middle-income country by 2035 and a high-income country by 2050.\",\n",
        "    \"What is Umuganda in Rwanda?\": \"Umuganda is a monthly national community service day in Rwanda where citizens clean streets, plant trees, and build public infrastructure.\",\n",
        "    \"What is Rwanda known for today?\": \"Rwanda is known for its clean cities, rapid development, eco-tourism, commitment to reconciliation, and being one of the safest countries in Africa.\",\n",
        "    \"What is Kwibuka in Rwanda?\": \"Kwibuka is an annual commemoration of the 1994 Genocide against the Tutsi. It means 'to remember' in Kinyarwanda and begins every April 7.\"\n",
        "}\n",
        "\n",
        "# Load the sentence transformer model\n",
        "model = SentenceTransformer('all-MiniLM-L6-v2')\n",
        "\n",
        "# Extract questions and answers\n",
        "questions = list(data.keys())\n",
        "answers = list(data.values())\n",
        "\n",
        "# Encode the questions\n",
        "question_embeddings = model.encode(questions, convert_to_tensor=False)\n",
        "\n",
        "# Convert embeddings to numpy array\n",
        "question_embeddings = np.array(question_embeddings).astype('float32')\n",
        "\n",
        "# Create a FAISS index\n",
        "dimension = question_embeddings.shape[1]\n",
        "index = faiss.IndexFlatL2(dimension)\n",
        "index.add(question_embeddings)\n",
        "\n",
        "# Lists for detecting greetings, gratitude, and farewells\n",
        "GREETINGS = [\"hello\", \"hi\", \"hey\", \"greetings\", \"good morning\", \"good afternoon\", \"good evening\"]\n",
        "GRATITUDE = [\"thank you\", \"thanks\", \"appreciate it\", \"thank you so much\", \"thanks a lot\"]\n",
        "FAREWELLS = [\"bye\", \"goodbye\", \"see you\", \"farewell\", \"take care\"]\n",
        "\n",
        "def is_greeting(query):\n",
        "    query_lower = query.lower().strip()\n",
        "    return any(greeting in query_lower for greeting in GREETINGS)\n",
        "\n",
        "def is_gratitude(query):\n",
        "    query_lower = query.lower().strip()\n",
        "    return any(gratitude in query_lower for gratitude in GRATITUDE)\n",
        "\n",
        "def is_farewell(query):\n",
        "    query_lower = query.lower().strip()\n",
        "    return any(farewell in query_lower for farewell in FAREWELLS)\n",
        "\n",
        "def chatbot(query):\n",
        "    # Check for greetings\n",
        "    if is_greeting(query):\n",
        "        return \"Hello! I'm here to assist you with questions about Rwandan history. What would you like to learn about today?\"\n",
        "\n",
        "    # Check for gratitude\n",
        "    if is_gratitude(query):\n",
        "        return \"You're welcome! I'm glad I could help. Would you like to know more about Rwandan history?\"\n",
        "\n",
        "    # Check for farewells\n",
        "    if is_farewell(query):\n",
        "        return \"Goodbye! Feel free to come back if you have more questions about Rwandan history.\"\n",
        "\n",
        "    # Encode the input query\n",
        "    query_embedding = model.encode([query], convert_to_tensor=False).astype('float32')\n",
        "\n",
        "    # Search for the closest question\n",
        "    k = 1  # Number of nearest neighbors\n",
        "    distances, indices = index.search(query_embedding, k)\n",
        "\n",
        "    # Get the distance to the closest match\n",
        "    distance = distances[0][0]\n",
        "\n",
        "    # Set a threshold for out-of-domain detection\n",
        "    DISTANCE_THRESHOLD = 1.5\n",
        "\n",
        "    if distance > DISTANCE_THRESHOLD:\n",
        "        return \"I'm sorry, I don't have information on that topic. I can help with questions about Rwandan history. What would you like to know?\"\n",
        "\n",
        "    # Get the most similar question and its answer\n",
        "    matched_question = questions[indices[0][0]]\n",
        "    matched_answer = answers[indices[0][0]]\n",
        "\n",
        "    # Add a polite tone and follow-up prompt\n",
        "    return f\"Here’s what I found: {matched_answer} Would you like to know more about Rwandan history?\"\n",
        "\n",
        "# Create a Gradio interface\n",
        "iface = gr.Interface(\n",
        "    fn=chatbot,\n",
        "    inputs=gr.Textbox(lines=2, placeholder=\"Ask a question about Rwandan history...\"),\n",
        "    outputs=\"text\",\n",
        "    title=\"Rwandan History Chatbot\",\n",
        "    description=\"Ask questions about Rwandan history, and the chatbot will respond based on the provided knowledge base.\"\n",
        ")\n",
        "\n",
        "# Test the chatbot with sample queries\n",
        "test_queries = [\n",
        "    \"Hello\",  # Greeting\n",
        "    \"What happened in Rwanda in 1959?\",  # In-domain\n",
        "    \"Thank you so much\",  # Gratitude\n",
        "    \"What is the capital of France?\",  # Out-of-domain\n",
        "    \"Who is the current president of Rwanda?\",  # In-domain\n",
        "    \"Thanks a lot\",  # Gratitude\n",
        "    \"Goodbye\",  # Farewell\n",
        "    \"What are Gacaca courts?\",  # In-domain\n",
        "    \"Bye bye\",  # Farewell\n",
        "]\n",
        "\n",
        "print(\"Testing the chatbot with sample queries:\")\n",
        "for query in test_queries:\n",
        "    response = chatbot(query)\n",
        "    print(f\"Query: {query}\")\n",
        "    print(f\"Response: {response}\\n\")\n",
        "\n",
        "# Launch the Gradio interface\n",
        "iface.launch()"
      ],
      "metadata": {
        "colab": {
          "base_uri": "https://localhost:8080/",
          "height": 1000
        },
        "id": "0iUfT8zXvjYr",
        "outputId": "0e4cf9dc-705a-4bf5-97b3-a9a8d8532b79"
      },
      "execution_count": 11,
      "outputs": [
        {
          "output_type": "stream",
          "name": "stdout",
          "text": [
            "Testing the chatbot with sample queries:\n",
            "Query: Hello\n",
            "Response: Hello! I'm here to assist you with questions about Rwandan history. What would you like to learn about today?\n",
            "\n",
            "Query: What happened in Rwanda in 1959?\n",
            "Response: Here’s what I found: The Rwandan Revolution in 1959 led to the end of the Tutsi monarchy and the rise of a Hutu-led republic. It triggered ethnic violence and the exile of many Tutsis. Would you like to know more about Rwandan history?\n",
            "\n",
            "Query: Thank you so much\n",
            "Response: You're welcome! I'm glad I could help. Would you like to know more about Rwandan history?\n",
            "\n",
            "Query: What is the capital of France?\n",
            "Response: Here’s what I found: Rwanda is known for its clean cities, rapid development, eco-tourism, commitment to reconciliation, and being one of the safest countries in Africa. Would you like to know more about Rwandan history?\n",
            "\n",
            "Query: Who is the current president of Rwanda?\n",
            "Response: Here’s what I found: Since 2000, Rwanda has made progress in healthcare, education, digital transformation, gender equality, and economic development. Would you like to know more about Rwandan history?\n",
            "\n",
            "Query: Thanks a lot\n",
            "Response: You're welcome! I'm glad I could help. Would you like to know more about Rwandan history?\n",
            "\n",
            "Query: Goodbye\n",
            "Response: Goodbye! Feel free to come back if you have more questions about Rwandan history.\n",
            "\n",
            "Query: What are Gacaca courts?\n",
            "Response: Here’s what I found: Gacaca courts were community-based courts used to try suspects of the 1994 Genocide, aimed at truth-telling, justice, and reconciliation. Would you like to know more about Rwandan history?\n",
            "\n",
            "Query: Bye bye\n",
            "Response: Goodbye! Feel free to come back if you have more questions about Rwandan history.\n",
            "\n",
            "It looks like you are running Gradio on a hosted a Jupyter notebook. For the Gradio app to work, sharing must be enabled. Automatically setting `share=True` (you can turn this off by setting `share=False` in `launch()` explicitly).\n",
            "\n",
            "Colab notebook detected. To show errors in colab notebook, set debug=True in launch()\n",
            "* Running on public URL: https://60770629ec9bf56225.gradio.live\n",
            "\n",
            "This share link expires in 1 week. For free permanent hosting and GPU upgrades, run `gradio deploy` from the terminal in the working directory to deploy to Hugging Face Spaces (https://huggingface.co/spaces)\n"
          ]
        },
        {
          "output_type": "display_data",
          "data": {
            "text/plain": [
              "<IPython.core.display.HTML object>"
            ],
            "text/html": [
              "<div><iframe src=\"https://60770629ec9bf56225.gradio.live\" width=\"100%\" height=\"500\" allow=\"autoplay; camera; microphone; clipboard-read; clipboard-write;\" frameborder=\"0\" allowfullscreen></iframe></div>"
            ]
          },
          "metadata": {}
        },
        {
          "output_type": "execute_result",
          "data": {
            "text/plain": []
          },
          "metadata": {},
          "execution_count": 11
        }
      ]
    },
    {
      "cell_type": "code",
      "source": [],
      "metadata": {
        "id": "QCkJ1PJAvjV8"
      },
      "execution_count": null,
      "outputs": []
    },
    {
      "cell_type": "code",
      "source": [],
      "metadata": {
        "id": "g93uUn6yvjEJ"
      },
      "execution_count": null,
      "outputs": []
    }
  ],
  "metadata": {
    "colab": {
      "provenance": [],
      "include_colab_link": true
    },
    "kernelspec": {
      "display_name": "Python 3",
      "name": "python3"
    }
  },
  "nbformat": 4,
  "nbformat_minor": 0
}