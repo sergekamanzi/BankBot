{
  "cells": [
    {
      "cell_type": "markdown",
      "metadata": {
        "id": "view-in-github",
        "colab_type": "text"
      },
      "source": [
        "<a href=\"https://colab.research.google.com/github/sergekamanzi/ChatBotpro/blob/main/chatbot.ipynb\" target=\"_parent\"><img src=\"https://colab.research.google.com/assets/colab-badge.svg\" alt=\"Open In Colab\"/></a>"
      ]
    },
    {
      "cell_type": "code",
      "source": [
        "%%capture\n",
        "!pip install --upgrade datasets"
      ],
      "metadata": {
        "id": "EROomg0S3Ywd"
      },
      "execution_count": null,
      "outputs": []
    },
    {
      "cell_type": "code",
      "source": [
        "# ─────────────────────────────────────────────────────────────────────────────\n",
        "# Complete Rwanda History Chatbot with Gradio\n",
        "# ─────────────────────────────────────────────────────────────────────────────\n",
        "\n",
        "# 1. Install dependencies\n",
        "#    Run this cell first in Colab or your environment\n",
        "!pip install -q gradio sentence-transformers\n",
        "\n",
        "# 2. Imports\n",
        "import re\n",
        "import numpy as np\n",
        "import gradio as gr\n",
        "from sentence_transformers import SentenceTransformer, util\n",
        "\n",
        "# 3. Full Rwanda history text\n",
        "rwanda_history = \"\"\"\n",
        "Human occupation of Rwanda is thought to have begun shortly after the last ice age. By the 11th century, the inhabitants had organized into a number of kingdoms. In the 19th century, Mwami Rwabugiri of the Kingdom of Rwanda conducted military conquests and administrative consolidation to control most of present-day Rwanda. Germany and Belgium then allied with the Rwandan court.\n",
        "\n",
        "In 1962 independence was granted; Grégoire Kayibanda became president. Unsettled ethnic tensions worsened under Juvénal Habyarimana's 1973 coup. In 1990 the Tutsi-led Rwandan Patriotic Front (RPF) invaded, triggering the Civil War. The assassination of Habyarimana in 1994 sparked the genocide: over ~100 days, 500,000–1,000,000 Tutsis and moderate Hutus were killed by Hutu militias incited on radio. The RPF under Paul Kagame ended the genocide by taking Kigali in July 1994, leading to a mass exodus of roughly two million Hutu refugees into neighboring countries.\n",
        "\n",
        "Prehistoric & early ages:\n",
        "Humans entered post–last ice age (~10,000 BCE) or up to 3000 BCE. The Twa Pygmy forest hunters were first, followed by Iron Age settlers with pottery and iron tools. Central Sudanic farmers arrived by 3000 BCE, Mashariki Bantu by 1000 BCE, and Proto–Great Lakes Bantu by 500 BCE, assimilating earlier Cushitic & Nilo-Saharan groups.\n",
        "\n",
        "Kingdom era & Rwabugiri:\n",
        "By the 15th century, small Hutu & Tutsi states existed (e.g., Gisaka). Under King Rwabugiri (19th century), the realm centralized—Tutsi chiefs collected tribute; the Mwami held semi-divine status. The Gacaca justice system administered local disputes.\n",
        "\n",
        "Colonial period:\n",
        "Germany claimed Rwanda in 1897; Belgium took over in 1916 under a League of Nations mandate. Belgians reinforced Tutsi dominance via cattle-based identity cards, introduced cash taxes, coffee cultivation, and forced labor. Ethnic quotas and identity cards (from 1931) hardened divisions. Famines in 1928–29 & 1943–44 killed up to one-third of the population.\n",
        "\n",
        "Road to Independence:\n",
        "Pan-Africanism & Hutu emancipation grew post-WWII. The “Hutu Manifesto” (1957) spurred conflict, the 1959 “wind of destruction” massacred 20,000–100,000 Tutsi, and Tutsi fled. A 1961 referendum abolished the monarchy; full independence came July 1, 1962.\n",
        "\n",
        "Post-genocide & today:\n",
        "Post-1994, Kagame’s RPF formed a unity government; Pasteur Bizimungu served as a Hutu president until 2000. Vision 2020 aims to build a knowledge-based economy. Today Rwanda is among Africa’s least corrupt nations but faces critiques on press freedom and political rights.\n",
        "\"\"\"\n",
        "\n",
        "# 4. Prepare sentence-level embeddings\n",
        "model = SentenceTransformer('all-MiniLM-L6-v2')\n",
        "\n",
        "# Split into sentences\n",
        "sentences = re.split(r'\\.\\s*(?=[A-Z])', rwanda_history.strip())\n",
        "sentences = [s.strip() for s in sentences if len(s.strip()) > 10]\n",
        "sentence_embeddings = model.encode(sentences, convert_to_tensor=True)\n",
        "\n",
        "# 5. Define retrieval + response function\n",
        "def find_relevant_info(question: str) -> str:\n",
        "    question = question.strip()\n",
        "    if not question:\n",
        "        return \"👋 Please ask a question about Rwanda’s history.\"\n",
        "\n",
        "    # Encode and compute similarities\n",
        "    q_emb = model.encode(question, convert_to_tensor=True)\n",
        "    cos_scores = util.cos_sim(q_emb, sentence_embeddings)[0]\n",
        "    top_indices = np.argsort(cos_scores.cpu().numpy())[-3:][::-1]\n",
        "\n",
        "    # Filter by relevance threshold\n",
        "    relevant = [sentences[i] for i in top_indices if cos_scores[i] > 0.3]\n",
        "    if not relevant:\n",
        "        return \"I couldn't find specific info—try rephrasing or another topic.\"\n",
        "\n",
        "    # Special handling for genocide queries\n",
        "    if \"genocide\" in question.lower():\n",
        "        return (\n",
        "            \"The 1994 Rwandan genocide was triggered by President Habyarimana’s assassination on April 6, 1994. \"\n",
        "            \"Over ~100 days, 500,000–1,000,000 Tutsis and moderate Hutus were killed by Hutu militias incited via \"\n",
        "            \"Radio Télévision Libre des Mille Collines. The RPF under Paul Kagame ended the genocide by capturing Kigali, \"\n",
        "            \"leading to ~2 million Hutu refugees.\"\n",
        "        )\n",
        "\n",
        "    # Otherwise, join the top relevant sentences\n",
        "    return \". \".join(relevant) + \".\"\n",
        "\n",
        "# 6. Gradio chatbot wrapper\n",
        "def chatbot_response(user_input: str) -> str:\n",
        "    return find_relevant_info(user_input)\n",
        "\n",
        "# 7. Launch Gradio interface\n",
        "interface = gr.Interface(\n",
        "    fn=chatbot_response,\n",
        "    inputs=gr.Textbox(lines=2, placeholder=\"Ask a question about Rwanda’s history...\"),\n",
        "    outputs=\"text\",\n",
        "    title=\"Rwanda History Chatbot\",\n",
        "    description=\"Ask about Rwanda's past—from prehistoric times through the genocide to modern development.\"\n",
        ")\n",
        "\n",
        "if __name__ == \"__main__\":\n",
        "    interface.launch(share=True)\n"
      ],
      "metadata": {
        "id": "jyHrE9qu5OfR",
        "outputId": "a869fd03-72ff-49f5-835b-8d086fab3cd0",
        "colab": {
          "base_uri": "https://localhost:8080/",
          "height": 715
        }
      },
      "execution_count": 1,
      "outputs": [
        {
          "output_type": "stream",
          "name": "stderr",
          "text": [
            "/usr/local/lib/python3.11/dist-packages/huggingface_hub/utils/_auth.py:94: UserWarning: \n",
            "The secret `HF_TOKEN` does not exist in your Colab secrets.\n",
            "To authenticate with the Hugging Face Hub, create a token in your settings tab (https://huggingface.co/settings/tokens), set it as secret in your Google Colab and restart your session.\n",
            "You will be able to reuse this secret in all of your notebooks.\n",
            "Please note that authentication is recommended but still optional to access public models or datasets.\n",
            "  warnings.warn(\n"
          ]
        },
        {
          "output_type": "stream",
          "name": "stdout",
          "text": [
            "Colab notebook detected. To show errors in colab notebook, set debug=True in launch()\n",
            "* Running on public URL: https://ee592af5750b2467dc.gradio.live\n",
            "\n",
            "This share link expires in 1 week. For free permanent hosting and GPU upgrades, run `gradio deploy` from the terminal in the working directory to deploy to Hugging Face Spaces (https://huggingface.co/spaces)\n"
          ]
        },
        {
          "output_type": "display_data",
          "data": {
            "text/plain": [
              "<IPython.core.display.HTML object>"
            ],
            "text/html": [
              "<div><iframe src=\"https://ee592af5750b2467dc.gradio.live\" width=\"100%\" height=\"500\" allow=\"autoplay; camera; microphone; clipboard-read; clipboard-write;\" frameborder=\"0\" allowfullscreen></iframe></div>"
            ]
          },
          "metadata": {}
        }
      ]
    }
  ],
  "metadata": {
    "colab": {
      "provenance": [],
      "include_colab_link": true
    },
    "kernelspec": {
      "display_name": "Python 3",
      "name": "python3"
    }
  },
  "nbformat": 4,
  "nbformat_minor": 0
}