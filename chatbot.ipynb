{
  "cells": [
    {
      "cell_type": "markdown",
      "metadata": {
        "id": "view-in-github",
        "colab_type": "text"
      },
      "source": [
        "<a href=\"https://colab.research.google.com/github/sergekamanzi/ChatBotpro/blob/main/chatbot.ipynb\" target=\"_parent\"><img src=\"https://colab.research.google.com/assets/colab-badge.svg\" alt=\"Open In Colab\"/></a>"
      ]
    },
    {
      "cell_type": "code",
      "source": [
        "!pip install sentence-transformers -q\n",
        "\n",
        "from sentence_transformers import SentenceTransformer, util\n",
        "import pandas as pd\n",
        "\n",
        "# Load your full banking dataset\n",
        "df = pd.read_csv(\"/content/banking.csv\")\n",
        "df = df.dropna(subset=[\"question\", \"response\"])\n",
        "questions = df[\"question\"].tolist()\n",
        "responses = df[\"response\"].tolist()\n",
        "\n",
        "# Load a semantic sentence transformer (MiniLM is fast & accurate)\n",
        "model = SentenceTransformer('all-MiniLM-L6-v2')\n",
        "\n",
        "# Encode all dataset questions\n",
        "question_embeddings = model.encode(questions, convert_to_tensor=True)\n",
        "\n",
        "# Chatbot memory loop\n",
        "def chatbot():\n",
        "    print(\"🔐 Banking Chatbot is ready! Type 'exit' to quit.\\n\")\n",
        "    while True:\n",
        "        user_input = input(\"You: \")\n",
        "        if user_input.lower() in [\"exit\", \"quit\"]:\n",
        "            print(\"Chatbot: Goodbye!\")\n",
        "            break\n",
        "\n",
        "        # Encode user question\n",
        "        user_embedding = model.encode(user_input, convert_to_tensor=True)\n",
        "\n",
        "        # Compute similarity with dataset\n",
        "        similarity_scores = util.cos_sim(user_embedding, question_embeddings)[0]\n",
        "        best_match_idx = similarity_scores.argmax().item()\n",
        "        best_score = similarity_scores[best_match_idx].item()\n",
        "\n",
        "        # Confidence threshold\n",
        "        if best_score > 0.6:\n",
        "            print(\"Chatbot:\", responses[best_match_idx])\n",
        "        else:\n",
        "            print(\"Chatbot: Sorry, I couldn't understand that. Try asking in a different way.\")\n",
        "\n",
        "chatbot()\n"
      ],
      "metadata": {
        "id": "SmBiHdpC9tG0"
      },
      "execution_count": 4,
      "outputs": []
    },
    {
      "cell_type": "code",
      "source": [],
      "metadata": {
        "id": "qkFpta8y9s-i"
      },
      "execution_count": null,
      "outputs": []
    }
  ],
  "metadata": {
    "colab": {
      "provenance": [],
      "include_colab_link": true
    },
    "kernelspec": {
      "display_name": "Python 3",
      "name": "python3"
    }
  },
  "nbformat": 4,
  "nbformat_minor": 0
}